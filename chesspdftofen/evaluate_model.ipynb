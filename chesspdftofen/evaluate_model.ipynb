{
 "cells": [
  {
   "cell_type": "code",
   "execution_count": 1,
   "metadata": {},
   "outputs": [],
   "source": [
    "import numpy as np\n",
    "import cv2\n",
    "import matplotlib.pyplot as plt\n",
    "import os\n",
    "import pickle\n",
    "from pdf2image import convert_from_path\n",
    "import tempfile\n",
    "\n",
    "from sklearn.metrics import confusion_matrix\n",
    "from sklearn.model_selection import train_test_split\n",
    "from sklearn import svm\n",
    "\n",
    "import segment_boards\n",
    "\n",
    "%matplotlib inline\n",
    "def sbw(im):\n",
    "  plt.imshow(im, cmap='gray', vmin=0, vmax=255)\n",
    "\n",
    "def sw(im):\n",
    "  plt.imshow(cv2.cvtColor(im, cv2.COLOR_BGR2RGB))\n",
    "  plt.show()"
   ]
  },
  {
   "cell_type": "code",
   "execution_count": 26,
   "metadata": {},
   "outputs": [],
   "source": [
    "linear = pickle.load(open('..\\\\data\\\\dev\\\\set\\\\linear_des6.pkl', 'rb'))"
   ]
  },
  {
   "cell_type": "code",
   "execution_count": 27,
   "metadata": {},
   "outputs": [
    {
     "name": "stdout",
     "output_type": "stream",
     "text": [
      "0\n",
      "1000\n",
      "2000\n",
      "3000\n",
      "4000\n",
      "5000\n",
      "6000\n",
      "7000\n",
      "8000\n",
      "9000\n",
      "10000\n",
      "11000\n",
      "12000\n",
      "13000\n",
      "14000\n",
      "15000\n",
      "16000\n",
      "17000\n",
      "18000\n",
      "19000\n",
      "20000\n",
      "21000\n",
      "22000\n",
      "23000\n",
      "24000\n",
      "25000\n",
      "26000\n",
      "[[ 589    0    0    0    0    0    0    0    0    0    0    1    0    0]\n",
      " [  62  352    0    0    0    0    0    4    0    0    1    0    0    0]\n",
      " [   0    0  537    2    0    0    0    0    0    2    0    0    0    0]\n",
      " [  23    0   28 2536    0    0    0    0    0    1    0    0    0    0]\n",
      " [   0    0    0    0  299    0    0    0    0    0    0   99    0    0]\n",
      " [   3    0    0    0    0  745    0    0    0    0    0    0    2    0]\n",
      " [   0    0    0    0    0    0 8275    0    0    0    0    0    0    0]\n",
      " [   3    0    0    0    0    0    0  555    1    0    0    0    1    0]\n",
      " [   0    0    0    0    0    0    0    7  408    0    0    1    2    0]\n",
      " [   1    0    0    0    0    0    0    1    0  524    5    0    0    0]\n",
      " [   1    0    0    0   12    0    0    3    0   42 2532    6    0    0]\n",
      " [   0    0    0    0    0    0    0    0    0    0    0  399    0    0]\n",
      " [   0    0    0    0    0    0    0    6    0    0    0    0  749    0]\n",
      " [   0    0    0    0    0    0    0    0    0    0    0    0    0 7996]]\n",
      "accuracy 0.9880668257756563\n",
      "total 26816\n",
      "Wall time: 1min 48s\n"
     ]
    }
   ],
   "source": [
    "%%time\n",
    "folder = '..\\\\data\\\\out\\\\1n_final'\n",
    "piecesnames = ['BlackBishop', 'BlackKing', 'BlackKnight', 'BlackPawn', 'BlackQueen', 'BlackRook', 'BlackSpace', 'WhiteBishop', 'WhiteKing', 'WhiteKnight', 'WhitePawn', 'WhiteQueen', 'WhiteRook', 'WhiteSpace']\n",
    "label_len = len(piecesnames)\n",
    "confusion_matrix = np.zeros((label_len, label_len), dtype=np.int32)\n",
    "\n",
    "winSize = (128, 128) #\n",
    "# winSize = (96, 96) #\n",
    "blockSize = (64, 64) #\n",
    "blockStride = (32, 32) #\n",
    "cellSize = (16, 16) #\n",
    "\n",
    "# blockSize = (16, 16) #\n",
    "# blockStride = (8, 8) #\n",
    "# cellSize = (8, 8) #\n",
    "nbins = 9 #\n",
    "derivAperture = 1\n",
    "winSigma = -1.\n",
    "histogramNormType = 0\n",
    "L2HysThreshold = 0.2\n",
    "gammaCorrection = 1\n",
    "nlevels = 64\n",
    "signedGradients = True #\n",
    "\n",
    "hog = cv2.HOGDescriptor(\n",
    "  winSize, blockSize, blockStride, cellSize, nbins, derivAperture, winSigma, histogramNormType,\n",
    "  L2HysThreshold, gammaCorrection, nlevels, signedGradients\n",
    ")\n",
    "\n",
    "k = 0\n",
    "for i, piece in enumerate(sorted(os.listdir(folder))):\n",
    "  folder2 = os.path.join(folder, piece)\n",
    "  if os.path.isfile(folder2):\n",
    "    continue\n",
    "  for j, filename in enumerate(sorted(os.listdir(folder2))):\n",
    "    fullname = os.path.join(folder2, filename)\n",
    "    im = cv2.imread(fullname, 0)\n",
    "    im = cv2.resize(im, (128, 128))\n",
    "#     x = hog.compute(im, padding=(3,3))\n",
    "    x = hog.compute(im)\n",
    "    y = int(linear.predict(x.T))\n",
    "    \n",
    "    confusion_matrix[i][y] += 1\n",
    "    if k % 1000 == 0:\n",
    "      print(k)\n",
    "    k += 1\n",
    "\n",
    "expected = 26816\n",
    "total = np.sum(confusion_matrix)\n",
    "print(confusion_matrix)\n",
    "print('accuracy', np.trace(confusion_matrix) / total)\n",
    "print('total', total)"
   ]
  },
  {
   "cell_type": "code",
   "execution_count": 13,
   "metadata": {},
   "outputs": [],
   "source": [
    "np.set_printoptions(suppress=True)"
   ]
  },
  {
   "cell_type": "code",
   "execution_count": 28,
   "metadata": {},
   "outputs": [
    {
     "data": {
      "text/plain": [
       "array([0.99830508, 0.84009547, 0.99260628, 0.97990726, 0.75125628,\n",
       "       0.99333333, 1.        , 0.99107143, 0.97607656, 0.98681733,\n",
       "       0.97534669, 1.        , 0.99205298, 1.        ])"
      ]
     },
     "execution_count": 28,
     "metadata": {},
     "output_type": "execute_result"
    }
   ],
   "source": [
    "confusion_matrix.diagonal() / confusion_matrix.sum(1)"
   ]
  }
 ],
 "metadata": {
  "kernelspec": {
   "display_name": "Python (chesspdftofen)",
   "language": "python",
   "name": "chesspdftofen"
  },
  "language_info": {
   "codemirror_mode": {
    "name": "ipython",
    "version": 3
   },
   "file_extension": ".py",
   "mimetype": "text/x-python",
   "name": "python",
   "nbconvert_exporter": "python",
   "pygments_lexer": "ipython3",
   "version": "3.8.3"
  }
 },
 "nbformat": 4,
 "nbformat_minor": 2
}
