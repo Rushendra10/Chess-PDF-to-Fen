{
 "cells": [
  {
   "cell_type": "code",
   "execution_count": 5,
   "metadata": {},
   "outputs": [],
   "source": [
    "import numpy as np\n",
    "import cv2\n",
    "import math\n",
    "import matplotlib.pyplot as plt\n",
    "import os\n",
    "from pdf2image import convert_from_path\n",
    "import tempfile"
   ]
  },
  {
   "cell_type": "code",
   "execution_count": 6,
   "metadata": {},
   "outputs": [],
   "source": [
    "%matplotlib inline\n",
    "def sw(im):\n",
    "    plt.imshow(cv2.cvtColor(im, cv2.COLOR_BGR2RGB))"
   ]
  },
  {
   "cell_type": "code",
   "execution_count": 7,
   "metadata": {},
   "outputs": [],
   "source": [
    "image_path = '..\\\\data\\\\dev\\\\1n.jpg'\n",
    "# image_path = '..\\\\data\\\\dev\\\\23.jpg'"
   ]
  },
  {
   "cell_type": "code",
   "execution_count": 8,
   "metadata": {},
   "outputs": [
    {
     "ename": "error",
     "evalue": "OpenCV(4.3.0) C:\\projects\\opencv-python\\opencv\\modules\\imgproc\\src\\morph.dispatch.cpp:1022: error: (-215:Assertion failed) !src.empty() in function 'cv::dilate'\n",
     "output_type": "error",
     "traceback": [
      "\u001b[1;31m---------------------------------------------------------------------------\u001b[0m",
      "\u001b[1;31merror\u001b[0m                                     Traceback (most recent call last)",
      "\u001b[1;32m<ipython-input-8-e150a5b378a4>\u001b[0m in \u001b[0;36m<module>\u001b[1;34m\u001b[0m\n\u001b[0;32m      3\u001b[0m \u001b[1;33m\u001b[0m\u001b[0m\n\u001b[0;32m      4\u001b[0m \u001b[0mkernel\u001b[0m \u001b[1;33m=\u001b[0m \u001b[0mnp\u001b[0m\u001b[1;33m.\u001b[0m\u001b[0mones\u001b[0m\u001b[1;33m(\u001b[0m\u001b[1;33m(\u001b[0m\u001b[1;36m5\u001b[0m\u001b[1;33m,\u001b[0m\u001b[1;36m5\u001b[0m\u001b[1;33m)\u001b[0m\u001b[1;33m,\u001b[0m \u001b[0mnp\u001b[0m\u001b[1;33m.\u001b[0m\u001b[0muint8\u001b[0m\u001b[1;33m)\u001b[0m\u001b[1;33m\u001b[0m\u001b[1;33m\u001b[0m\u001b[0m\n\u001b[1;32m----> 5\u001b[1;33m \u001b[0mth2\u001b[0m \u001b[1;33m=\u001b[0m \u001b[0mcv2\u001b[0m\u001b[1;33m.\u001b[0m\u001b[0mdilate\u001b[0m\u001b[1;33m(\u001b[0m\u001b[0mth\u001b[0m\u001b[1;33m,\u001b[0m \u001b[0mkernel\u001b[0m\u001b[1;33m)\u001b[0m\u001b[1;33m\u001b[0m\u001b[1;33m\u001b[0m\u001b[0m\n\u001b[0m",
      "\u001b[1;31merror\u001b[0m: OpenCV(4.3.0) C:\\projects\\opencv-python\\opencv\\modules\\imgproc\\src\\morph.dispatch.cpp:1022: error: (-215:Assertion failed) !src.empty() in function 'cv::dilate'\n"
     ]
    }
   ],
   "source": [
    "im = cv2.imread(image_path, 0)\n",
    "\n",
    "# ret,th = cv2.threshold(im, 225, 255, cv2.THRESH_BINARY_INV)\n",
    "\n",
    "# kernel = np.ones((5,5), np.uint8)\n",
    "# th2 = cv2.dilate(th, kernel)"
   ]
  },
  {
   "cell_type": "code",
   "execution_count": null,
   "metadata": {},
   "outputs": [],
   "source": [
    "sw(th2)"
   ]
  },
  {
   "cell_type": "code",
   "execution_count": null,
   "metadata": {},
   "outputs": [],
   "source": [
    "contours, hierarchy = cv2.findContours(th2, cv2.RETR_TREE, cv2.CHAIN_APPROX_SIMPLE)\n",
    "# contours, hierarchy = cv2.findContours(th2, cv2.RETR_EXTERNAL, cv2.CHAIN_APPROX_SIMPLE)\n",
    " \n",
    "contours.sort(key=lambda cnt: cv2.contourArea(cnt), reverse=True)\n",
    "filtered_contours = []\n",
    "filtered_rects = []\n",
    "buf = 0\n",
    "min_area = 64*25*25\n",
    "for i, cnt in enumerate(contours):\n",
    "  area = cv2.contourArea(cnt)\n",
    "  if not (min_area <= area):\n",
    "    # print('area', area)\n",
    "    continue\n",
    "  epsilon = 0.01*cv2.arcLength(cnt,True)\n",
    "  approx = cv2.approxPolyDP(cnt,epsilon,True)\n",
    "  num_sides = len(approx)\n",
    "  # check for square\n",
    "  if not (4 == num_sides):\n",
    "    # print('sides', num_sides)\n",
    "    continue\n",
    "  x, y, w, h = cv2.boundingRect(cnt)\n",
    "  h_max, w_max = im.shape\n",
    "  if abs(w - h) > 25:\n",
    "    # print('x,y,w,h', x, y, w, h)\n",
    "    continue\n",
    "  \n",
    "  rect = (max(y - buf, 0), min(y + h + buf, h_max), max(x - buf, 0), min(x + w + buf, w_max))\n",
    "  filtered_contours.append(cnt)\n",
    "  filtered_rects.append(rect)\n"
   ]
  },
  {
   "cell_type": "code",
   "execution_count": null,
   "metadata": {},
   "outputs": [],
   "source": [
    "len(filtered_contours)"
   ]
  },
  {
   "cell_type": "code",
   "execution_count": null,
   "metadata": {},
   "outputs": [],
   "source": [
    "rect = filtered_rects[1]\n",
    "potential_board = im[rect[0]:rect[1], rect[2]:rect[3]] \n",
    "pb_th2 = th2[rect[0]:rect[1], rect[2]:rect[3]] "
   ]
  },
  {
   "cell_type": "code",
   "execution_count": null,
   "metadata": {},
   "outputs": [],
   "source": [
    "# sw(potential_board)\n",
    "sw(pb_th2)"
   ]
  },
  {
   "cell_type": "code",
   "execution_count": null,
   "metadata": {},
   "outputs": [],
   "source": [
    "con = cv2.imread(image_path, 1)\n",
    "for c in filtered_contours:\n",
    "  color = list(np.random.random(size=3) * 256)\n",
    "  cv2.drawContours(con, [c], -1, color, -1);\n",
    "sw(con)"
   ]
  },
  {
   "cell_type": "code",
   "execution_count": null,
   "metadata": {},
   "outputs": [],
   "source": [
    "lap = cv2.Laplacian(pb_th2, cv2.CV_64F)\n",
    "lap = np.uint8(np.absolute(lap))\n",
    "kernel = np.ones((5,5), np.uint8)\n",
    "lap2 = cv2.dilate(lap, kernel)\n",
    "sw(lap2)"
   ]
  },
  {
   "cell_type": "code",
   "execution_count": null,
   "metadata": {},
   "outputs": [],
   "source": [
    "cdstP = cv2.cvtColor(potential_board, cv2.COLOR_GRAY2RGB)\n",
    "dim = min(w, h) / 8\n",
    "thres = int(0.9*dim)\n",
    "min_line_length = max(thres // 2, 20)\n",
    "max_line_gap = max(thres // 2, 20)\n",
    "\n",
    "print('dim,thres,min_line_length,max_line_gap',dim,thres,min_line_length,max_line_gap)\n",
    "\n",
    "linesP = cv2.HoughLinesP(lap, rho=1, theta=np.pi / 180, threshold=thres, lines=None, \n",
    "                         minLineLength=min_line_length, maxLineGap=max_line_gap)\n",
    "hls = []\n",
    "vls = []\n",
    "if linesP is not None:\n",
    "    for i in range(0, len(linesP)):\n",
    "      l = linesP[i][0]\n",
    "      is_hor = abs(l[0] - l[2]) < 10\n",
    "      is_vert = abs(l[1] - l[3]) < 10\n",
    "      if is_hor or is_vert:\n",
    "        if is_hor:\n",
    "          color = (0, 0, 255)\n",
    "          hls.append(l)\n",
    "        else:\n",
    "          color = (0, 255, 0)\n",
    "          vls.append(l)\n",
    "        \n",
    "        color = list(np.random.random(size=3) * 256)\n",
    "        cv2.line(cdstP, (l[0], l[1]), (l[2], l[3]), color, 3, cv2.LINE_AA)\n",
    "        cv2.circle(cdstP, (l[0], l[1]), 5, color, -1)\n",
    "        cv2.circle(cdstP, (l[2], l[3]), 5, color, -1)\n",
    "sw(cdstP)\n",
    "# cv2.imwrite('../data/dev/edge th2 laplacian houghlineP 23.png', cdstP)"
   ]
  },
  {
   "cell_type": "code",
   "execution_count": null,
   "metadata": {},
   "outputs": [],
   "source": [
    "len(ls)"
   ]
  },
  {
   "cell_type": "code",
   "execution_count": null,
   "metadata": {},
   "outputs": [],
   "source": [
    "def find_intersection(line1, line2):\n",
    "    # extract points\n",
    "    x1, y1, x2, y2 = line1[0], line1[1], line1[2], line1[3]\n",
    "    x3, y3, x4, y4 = line2[0], line2[1], line2[2], line2[3]\n",
    "    # compute determinant\n",
    "    det = (x1-x2)*(y3-y4) - (y1-y2)*(x3-x4)\n",
    "    # parallel or same line\n",
    "    if det == 0: \n",
    "      return np.inf, np.inf\n",
    "    Px = ((x1*y2 - y1*x2)*(x3-x4) - (x1-x2)*(x3*y4 - y3*x4))/ det\n",
    "    Py = ((x1*y2 - y1*x2)*(y3-y4) - (y1-y2)*(x3*y4 - y3*x4))/ det\n",
    "    return Px, Py"
   ]
  },
  {
   "cell_type": "code",
   "execution_count": null,
   "metadata": {},
   "outputs": [],
   "source": [
    "%%time\n",
    "# cdstP = cv2.cvtColor(potential_board, cv2.COLOR_GRAY2RGB)\n",
    "lh, lw = lap2.shape\n",
    "pts = []\n",
    "for hl in hls:\n",
    "  for vl in vls:\n",
    "    ix, iy = find_intersection(hl, vl)\n",
    "    if 0 <= ix <= lh and 0 <= iy <= lw:\n",
    "      pt = (int(ix), int(iy))\n",
    "      pts.append(pt)\n",
    "\n",
    "for pt in pts:\n",
    "  cv2.circle(cdstP, pt, 2, (255, 0, 0), -1)\n",
    "sw(cdstP)\n",
    "# cv2.imwrite('../data/dev/edge th2 laplacian houghlineP intersect.png', cdstP)"
   ]
  },
  {
   "cell_type": "code",
   "execution_count": null,
   "metadata": {},
   "outputs": [],
   "source": [
    "nclusters = 81\n",
    "criteria = (cv2.TERM_CRITERIA_EPS + cv2.TERM_CRITERIA_MAX_ITER, 10, 1.0)\n",
    "_, _, centers = cv2.kmeans(np.float32(pts), nclusters, None, criteria, 10, cv2.KMEANS_PP_CENTERS)\n"
   ]
  },
  {
   "cell_type": "code",
   "execution_count": null,
   "metadata": {},
   "outputs": [],
   "source": [
    "cdstP = cv2.cvtColor(potential_board, cv2.COLOR_GRAY2RGB)\n",
    "for cx, cy in centers:\n",
    "    cx = np.round(cx).astype(int)\n",
    "    cy = np.round(cy).astype(int)\n",
    "    cv2.circle(cdstP, (cx, cy), 5, (255, 0, 0), -1)\n",
    "sw(cdstP)\n",
    "# cv2.imwrite('../data/dev/edge th2 laplacian houghlineP intersect kmeans 23.png', cdstP)"
   ]
  },
  {
   "cell_type": "code",
   "execution_count": null,
   "metadata": {},
   "outputs": [],
   "source": [
    "def closest_multiple(x, n):\n",
    "  low = int(x / n)\n",
    "  cm = low * n if x - low * n < (low + 1) * n - x else (low + 1) * n\n",
    "  diff = abs(x - cm)\n",
    "  return cm, diff\n",
    "\n",
    "clist = centers.tolist()\n",
    "clist.sort()\n",
    "close_thres = 25\n",
    "# check kmeans corners with the expected corners of the grid\n",
    "# a point that is sufficiently close to an expected corner that is far away from\n",
    "# other points in the list is counted\n",
    "matching_points = 0\n",
    "for i, c in enumerate(clist):\n",
    "  # look at previous to see if its the same point\n",
    "  if i != 0:\n",
    "    prev = clist[i-1]\n",
    "    if abs(c[0] - prev[0]) < close_thres and abs(c[1] - prev[1]) < close_thres:\n",
    "      continue\n",
    "  c0cm, c0diff = closest_multiple(c[0], dim)\n",
    "  c1cm, c1diff = closest_multiple(c[1], dim)\n",
    "  # too far from expected corner\n",
    "  if c0diff > close_thres or c1diff > close_thres:\n",
    "    continue\n",
    "#   print('c, cm, diff', c, (c0cm, c1cm), (c0diff, c1diff))\n",
    "  matching_points += 1\n",
    "print(matching_points)"
   ]
  },
  {
   "cell_type": "code",
   "execution_count": null,
   "metadata": {},
   "outputs": [],
   "source": [
    "w/8, h/8"
   ]
  },
  {
   "cell_type": "code",
   "execution_count": null,
   "metadata": {},
   "outputs": [],
   "source": [
    "ret,th = cv2.threshold(im, 0, 255, cv2.THRESH_BINARY_INV+cv2.THRESH_OTSU)\n",
    "\n",
    "kernel = np.ones((5,5), np.uint8)\n",
    "th2 = cv2.dilate(th, kernel)\n",
    "sw(th2)"
   ]
  },
  {
   "cell_type": "code",
   "execution_count": null,
   "metadata": {},
   "outputs": [],
   "source": [
    "ret,th = cv2.threshold(im, 225, 255, cv2.THRESH_BINARY_INV)\n",
    "sw(th)"
   ]
  }
 ],
 "metadata": {
  "kernelspec": {
   "display_name": "Python (chesspdftofen)",
   "language": "python",
   "name": "chesspdftofen"
  },
  "language_info": {
   "codemirror_mode": {
    "name": "ipython",
    "version": 3
   },
   "file_extension": ".py",
   "mimetype": "text/x-python",
   "name": "python",
   "nbconvert_exporter": "python",
   "pygments_lexer": "ipython3",
   "version": "3.8.3"
  }
 },
 "nbformat": 4,
 "nbformat_minor": 2
}
