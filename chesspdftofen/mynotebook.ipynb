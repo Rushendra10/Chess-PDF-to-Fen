{
 "cells": [
  {
   "cell_type": "code",
   "execution_count": 1,
   "metadata": {},
   "outputs": [],
   "source": [
    "import numpy as np\n",
    "import cv2\n",
    "import matplotlib.pyplot as plt\n",
    "import os\n",
    "from pdf2image import convert_from_path\n",
    "import tempfile\n",
    "\n",
    "from sklearn.metrics import confusion_matrix\n",
    "from sklearn.model_selection import train_test_split\n",
    "from sklearn import svm\n",
    "\n",
    "import segment_boards\n",
    "\n",
    "%matplotlib inline\n",
    "def sbw(im):\n",
    "  plt.imshow(im, cmap='gray', vmin=0, vmax=255)\n",
    "\n",
    "def sw(im):\n",
    "  plt.imshow(cv2.cvtColor(im, cv2.COLOR_BGR2RGB))\n",
    "  plt.show()\n"
   ]
  },
  {
   "cell_type": "code",
   "execution_count": 104,
   "metadata": {},
   "outputs": [
    {
     "name": "stdout",
     "output_type": "stream",
     "text": [
      "2\n",
      "Wall time: 909 ms\n"
     ]
    }
   ],
   "source": [
    "%%time\n",
    "image_path = '..\\\\data\\\\dev\\\\1n.png'\n",
    "im = cv2.imread(image_path, 0)\n",
    "\n",
    "boards = segment_boards.segment_boards(im)\n",
    "print(len(boards))"
   ]
  },
  {
   "cell_type": "code",
   "execution_count": 71,
   "metadata": {},
   "outputs": [
    {
     "data": {
      "text/plain": [
       "0.784267246723175"
      ]
     },
     "execution_count": 71,
     "metadata": {},
     "output_type": "execute_result"
    }
   ],
   "source": [
    "X_train.max()"
   ]
  },
  {
   "cell_type": "code",
   "execution_count": 106,
   "metadata": {},
   "outputs": [],
   "source": [
    "board = boards[1]\n",
    "ymin, ymax, xmin, xmax, w, h = board\n",
    "board_im = im[ymin:ymax, xmin:xmax]\n",
    "board_im = cv2.resize(board_im, (128*8, 128*8))\n",
    "\n",
    "dim = 128\n",
    "# dim = min(h, w) // 8\n",
    "# ic_low = dim // 4\n",
    "# ic_high = dim // 4 * 3\n",
    "\n",
    "winSize = (128, 128) #\n",
    "# winSize = (96, 96) #\n",
    "# blockSize = (64, 64) #\n",
    "# blockStride = (32, 32) #\n",
    "# cellSize = (16, 16) #\n",
    "\n",
    "blockSize = (16, 16) #\n",
    "blockStride = (8, 8) #\n",
    "cellSize = (8, 8) #\n",
    "nbins = 9 #\n",
    "derivAperture = 1\n",
    "winSigma = -1.\n",
    "histogramNormType = 0\n",
    "L2HysThreshold = 0.2\n",
    "gammaCorrection = 1\n",
    "nlevels = 64\n",
    "signedGradients = True #\n",
    "hog = cv2.HOGDescriptor(\n",
    "  winSize, blockSize, blockStride, cellSize, nbins, derivAperture, winSigma, histogramNormType,\n",
    "  L2HysThreshold, gammaCorrection, nlevels, signedGradients\n",
    ")\n",
    "\n",
    "for i in range(8):\n",
    "  for j in range(8):\n",
    "    cell = board_im[dim*i: dim*(i+1), dim*j: dim*(j+1)]\n",
    "#     sw(cell)\n",
    "    x = hog.compute(cell)\n",
    "    name = piecenames[int(linear.predict(x.T))]\n",
    "    cv2.imwrite('..//data//dev//pieces//des32//' + name + '_' + str(i) + '_' + str(j) + ' 2.png', cell)\n",
    "    \n",
    "#     cell = im[dim*i + ymin: dim*(i+1) + ymin, dim*j + xmin: dim*(j+1) + xmin]\n",
    "#     color = 'white_' if (i + j) % 2 == 0 else 'black_'\n",
    "#     ret,th = cv2.threshold(cell, 225, 255, cv2.THRESH_BINARY)\n",
    "    \n",
    "    # inner square majority to determine piece color\n",
    "#     inner_cell = th[ic_low:ic_high, ic_low:ic_high]\n",
    "#     cv2.putText(board_im, color + str(inner_cell.sum()), (dim*i,dim*j), cv2.FONT_HERSHEY_SIMPLEX, 1, 255)\n",
    "#     if color == 'white_':\n",
    "#       continue\n",
    "#     cv2.imwrite('..//data//dev//pieces//n_' +color + str(i) + '_' + str(j) + '.png', th)\n",
    "#     cv2.imwrite('..//data//dev//pieces//n_' +color + str(inner_cell.sum() / inner_cell.size / 255.0) + 'inner.png', inner_cell)\n",
    "# sw(board_im)\n"
   ]
  },
  {
   "cell_type": "code",
   "execution_count": 354,
   "metadata": {},
   "outputs": [],
   "source": [
    "im = cv2.imread(image_path, 0)\n"
   ]
  },
  {
   "cell_type": "code",
   "execution_count": 84,
   "metadata": {},
   "outputs": [],
   "source": [
    "#Importing the necessary packages and libaries\n",
    "from sklearn.metrics import confusion_matrix\n",
    "from sklearn.model_selection import train_test_split\n",
    "from sklearn import svm, datasets\n",
    "import matplotlib.pyplot as plt\n",
    "import numpy as np\n",
    "from skimage import feature"
   ]
  },
  {
   "cell_type": "code",
   "execution_count": 85,
   "metadata": {},
   "outputs": [],
   "source": [
    "def describe( image, eps=1e-7):\n",
    "  # compute the Local Binary Pattern representation\n",
    "  # of the image, and then use the LBP representation\n",
    "  # to build the histogram of patterns\n",
    "  lbp = feature.local_binary_pattern(image, self.numPoints,\n",
    "    self.radius, method=\"uniform\")\n",
    "  (hist, _) = np.histogram(lbp.ravel(),\n",
    "    bins=np.arange(0, self.numPoints + 3),\n",
    "    range=(0, self.numPoints + 2))\n",
    "  # normalize the histogram\n",
    "  hist = hist.astype(\"float\")\n",
    "  hist /= (hist.sum() + eps)\n",
    "  # return the histogram of Local Binary Patterns\n",
    "  return hist"
   ]
  },
  {
   "cell_type": "code",
   "execution_count": 371,
   "metadata": {},
   "outputs": [],
   "source": [
    "X_train, X_test, y_train, y_test = train_test_split(X, y, train_size=0.8, random_state = 0)"
   ]
  },
  {
   "cell_type": "code",
   "execution_count": 372,
   "metadata": {},
   "outputs": [],
   "source": [
    "linear = svm.SVC(kernel='linear', C=1, decision_function_shape='ovo').fit(X_train, y_train)\n",
    "rbf = svm.SVC(kernel='rbf', gamma=1, C=1, decision_function_shape='ovo').fit(X_train, y_train)\n",
    "poly = svm.SVC(kernel='poly', degree=3, C=1, decision_function_shape='ovo').fit(X_train, y_train)\n",
    "sig = svm.SVC(kernel='sigmoid', C=1, decision_function_shape='ovo').fit(X_train, y_train)"
   ]
  },
  {
   "cell_type": "code",
   "execution_count": 374,
   "metadata": {},
   "outputs": [],
   "source": [
    "linear_pred = linear.predict(X_test)\n",
    "poly_pred = poly.predict(X_test)\n",
    "rbf_pred = rbf.predict(X_test)\n",
    "sig_pred = sig.predict(X_test)"
   ]
  },
  {
   "cell_type": "code",
   "execution_count": 376,
   "metadata": {},
   "outputs": [
    {
     "name": "stdout",
     "output_type": "stream",
     "text": [
      "Accuracy Linear Kernel: 0.7333333333333333\n",
      "Accuracy Polynomial Kernel: 0.7333333333333333\n",
      "Accuracy Radial Basis Kernel: 0.6666666666666666\n",
      "Accuracy Sigmoid Kernel: 0.2\n"
     ]
    }
   ],
   "source": [
    "# retrieve the accuracy and print it for all 4 kernel functions\n",
    "accuracy_lin = linear.score(X_test, y_test)\n",
    "accuracy_poly = poly.score(X_test, y_test)\n",
    "accuracy_rbf = rbf.score(X_test, y_test)\n",
    "accuracy_sig = sig.score(X_test, y_test)\n",
    "\n",
    "print(\"Accuracy Linear Kernel:\", accuracy_lin)\n",
    "print(\"Accuracy Polynomial Kernel:\", accuracy_poly)\n",
    "print(\"Accuracy Radial Basis Kernel:\", accuracy_rbf)\n",
    "print(\"Accuracy Sigmoid Kernel:\", accuracy_sig)"
   ]
  },
  {
   "cell_type": "code",
   "execution_count": 377,
   "metadata": {},
   "outputs": [
    {
     "name": "stdout",
     "output_type": "stream",
     "text": [
      "[[11  0  0]\n",
      " [ 0  8  5]\n",
      " [ 0  3  3]]\n",
      "[[11  0  0]\n",
      " [ 0  8  5]\n",
      " [ 0  3  3]]\n",
      "[[11  0  0]\n",
      " [ 0  5  8]\n",
      " [ 0  2  4]]\n",
      "[[ 0  0 11]\n",
      " [ 0  0 13]\n",
      " [ 0  0  6]]\n"
     ]
    }
   ],
   "source": [
    "# creating a confusion matrix\n",
    "cm_lin = confusion_matrix(y_test, linear_pred)\n",
    "cm_poly = confusion_matrix(y_test, poly_pred)\n",
    "cm_rbf = confusion_matrix(y_test, rbf_pred)\n",
    "cm_sig = confusion_matrix(y_test, sig_pred)\n",
    "print(cm_lin)\n",
    "print(cm_poly)\n",
    "print(cm_rbf)\n",
    "print(cm_sig)"
   ]
  },
  {
   "cell_type": "code",
   "execution_count": 391,
   "metadata": {},
   "outputs": [],
   "source": [
    "path = 'C:\\\\Users\\\\Jason\\\\Documents\\\\GitHub\\\\chesspdftofen\\\\data\\\\dev\\\\work\\\\*.jpg'\n",
    "dpath = 'C:\\\\Users\\\\Jason\\\\Documents\\\\GitHub\\\\chesspdftofen\\\\data\\\\dev\\\\work\\\\'\n",
    "import glob, os\n",
    "for i, f in enumerate(glob.glob(path)):\n",
    "  n = '%05d' % (i,)\n",
    "  os.rename(f, os.path.join(dpath, 'WhiteSpace-' + n + '.jpg'))"
   ]
  },
  {
   "cell_type": "code",
   "execution_count": 490,
   "metadata": {},
   "outputs": [
    {
     "name": "stdout",
     "output_type": "stream",
     "text": [
      "8168\n"
     ]
    }
   ],
   "source": [
    "folder = '..\\\\data\\\\dev\\\\set'\n",
    "num_images = 8168\n",
    "des = np.empty((num_images, 5184))\n",
    "label = np.empty((num_images, 1))\n",
    "x = 0\n",
    "for i, piece in enumerate(sorted(os.listdir(folder))):\n",
    "  folder2 = os.path.join(folder, piece)\n",
    "  if os.path.isfile(folder2):\n",
    "    continue\n",
    "  for j, filename in enumerate(sorted(os.listdir(folder2))):\n",
    "    fullname = os.path.join(folder2, filename)\n",
    "    \n",
    "#     im = cv2.imread(fullname, 0)\n",
    "#     winSize = (128, 128) #\n",
    "#     # winSize = (96, 96) #\n",
    "#     blockSize = (64, 64) #\n",
    "#     blockStride = (32, 32) #\n",
    "#     cellSize = (16, 16) #\n",
    "#     nbins = 9 #\n",
    "#     derivAperture = 1\n",
    "#     winSigma = -1.\n",
    "#     histogramNormType = 0\n",
    "#     L2HysThreshold = 0.2\n",
    "#     gammaCorrection = 1\n",
    "#     nlevels = 64\n",
    "#     signedGradients = False #\n",
    "#     hog = cv2.HOGDescriptor(\n",
    "#       winSize, blockSize, blockStride, cellSize, nbins, derivAperture, winSigma, histogramNormType,\n",
    "#       L2HysThreshold, gammaCorrection, nlevels, signedGradients\n",
    "#     )\n",
    "#     des[x, :] = hog.compute(im, padding=(3,3)).flatten()\n",
    "    label[x] = i\n",
    "    x += 1\n",
    "print(x)"
   ]
  },
  {
   "cell_type": "code",
   "execution_count": 11,
   "metadata": {},
   "outputs": [
    {
     "name": "stdout",
     "output_type": "stream",
     "text": [
      "['BlackBishop', 'BlackKing', 'BlackKnight', 'BlackPawn', 'BlackQueen', 'BlackRook', 'BlackSpace', 'WhiteBishop', 'WhiteKing', 'WhiteKnight', 'WhitePawn', 'WhiteQueen', 'WhiteRook', 'WhiteSpace']\n"
     ]
    }
   ],
   "source": [
    "# folder = '..\\\\data\\\\dev\\\\set'\n",
    "# piecenames = []\n",
    "# for i, piece in enumerate(sorted(os.listdir(folder))):\n",
    "#   folder2 = os.path.join(folder, piece)\n",
    "#   if os.path.isfile(folder2):\n",
    "#     continue\n",
    "#   piecenames.append(piece)\n",
    "# print(piecenames)\n",
    "piecesnames = ['BlackBishop', 'BlackKing', 'BlackKnight', 'BlackPawn', 'BlackQueen', 'BlackRook', 'BlackSpace', 'WhiteBishop', 'WhiteKing', 'WhiteKnight', 'WhitePawn', 'WhiteQueen', 'WhiteRook', 'WhiteSpace']"
   ]
  },
  {
   "cell_type": "code",
   "execution_count": 64,
   "metadata": {},
   "outputs": [],
   "source": [
    "# fullname = '..\\\\data\\\\dev\\\\set\\\\BlackKing\\\\Black-002-36-Average-3.jpg'\n",
    "# fullname = '..\\\\data\\\\dev\\\\set\\\\WhiteBishop\\\\Black-002-9-Average-3.jpg'\n",
    "fullname = '..\\\\data\\\\dev\\\\pieces\\\\des32\\\\BlackPawn_4_2 2.png'\n",
    "fullname = '..\\\\data\\\\out\\\\23_final\\\\WhitePawn\\\\21_WhitePawn_00030_00003_00004_00002.png'\n",
    "\n",
    "\n",
    "im = cv2.imread(fullname, 0)\n",
    "sz = 128\n",
    "im = cv2.resize(im, (sz, sz))\n",
    "winSize = (128, 128) #\n",
    "# winSize = (96, 96) #\n",
    "blockSize = (64, 64) #\n",
    "blockStride = (32, 32) #\n",
    "cellSize = (16, 16) #\n",
    "nbins = 9 #\n",
    "derivAperture = 1\n",
    "winSigma = -1.\n",
    "histogramNormType = 0\n",
    "L2HysThreshold = 0.2\n",
    "gammaCorrection = 1\n",
    "nlevels = 64\n",
    "signedGradients = False #\n",
    "hog = cv2.HOGDescriptor(\n",
    "  winSize, blockSize, blockStride, cellSize, nbins, derivAperture, winSigma, histogramNormType,\n",
    "  L2HysThreshold, gammaCorrection, nlevels, signedGradients\n",
    ")"
   ]
  },
  {
   "cell_type": "code",
   "execution_count": 7,
   "metadata": {},
   "outputs": [
    {
     "data": {
      "text/plain": [
       "(5184, 1)"
      ]
     },
     "execution_count": 7,
     "metadata": {},
     "output_type": "execute_result"
    }
   ],
   "source": [
    "hog.compute(im, padding=(3,3)).shape\n",
    "# hog.compute(im[0:96,0:96])"
   ]
  },
  {
   "cell_type": "code",
   "execution_count": 65,
   "metadata": {},
   "outputs": [
    {
     "name": "stdout",
     "output_type": "stream",
     "text": [
      "(1296, 1) (128, 128)\n"
     ]
    }
   ],
   "source": [
    "x = hog.compute(im)\n",
    "# x = hog.compute(im, padding=(3,3))\n",
    "print(x.shape, im.shape)"
   ]
  },
  {
   "cell_type": "code",
   "execution_count": 66,
   "metadata": {},
   "outputs": [
    {
     "data": {
      "text/plain": [
       "'WhitePawn'"
      ]
     },
     "execution_count": 66,
     "metadata": {},
     "output_type": "execute_result"
    }
   ],
   "source": [
    "piecenames[int(linear.predict(x.T))]"
   ]
  },
  {
   "cell_type": "code",
   "execution_count": 17,
   "metadata": {},
   "outputs": [],
   "source": [
    "folder = '..\\\\data\\\\dev\\\\pieces\\\\black'\n",
    "for i, filename in enumerate(sorted(os.listdir(folder))):\n",
    "  fullname = os.path.join(folder, filename)\n",
    "  print(fullname)\n",
    "  im = cv2.imread(fullname, 0)\n",
    "  sz = 125\n",
    "  im = cv2.resize(im, (sz, sz))\n",
    "  winSize = (128, 128) #\n",
    "  # winSize = (96, 96) #\n",
    "  blockSize = (64, 64) #\n",
    "  blockStride = (32, 32) #\n",
    "  cellSize = (16, 16) #\n",
    "  nbins = 9 #\n",
    "  derivAperture = 1\n",
    "  winSigma = -1.\n",
    "  histogramNormType = 0\n",
    "  L2HysThreshold = 0.2\n",
    "  gammaCorrection = 1\n",
    "  nlevels = 64\n",
    "  signedGradients = False #\n",
    "  hog = cv2.HOGDescriptor(\n",
    "    winSize, blockSize, blockStride, cellSize, nbins, derivAperture, winSigma, histogramNormType,\n",
    "    L2HysThreshold, gammaCorrection, nlevels, signedGradients\n",
    "  )\n",
    "  x = hog.compute(im, padding=(3,3))\n",
    "  y = int(poly.predict(x.T))\n",
    "  print(y)\n",
    "  piecename = piecenames[y]\n",
    "  os.rename(fullname, os.path.join(folder + '3', piecename + str(i) + '.png'))"
   ]
  },
  {
   "cell_type": "code",
   "execution_count": 108,
   "metadata": {},
   "outputs": [
    {
     "name": "stdout",
     "output_type": "stream",
     "text": [
      "0\n",
      "10\n",
      "20\n",
      "30\n",
      "40\n",
      "50\n",
      "60\n",
      "70\n",
      "80\n",
      "90\n",
      "100\n",
      "110\n",
      "120\n",
      "130\n",
      "140\n",
      "150\n",
      "160\n",
      "170\n",
      "180\n",
      "190\n",
      "200\n",
      "210\n",
      "220\n",
      "230\n",
      "240\n"
     ]
    }
   ],
   "source": [
    "folder = '..\\\\data\\\\out\\\\1n'\n",
    "outfolder = '..\\\\data\\\\out\\\\1n_out'\n",
    "winSize = (128, 128) #\n",
    "# winSize = (96, 96) #\n",
    "# blockSize = (64, 64) #\n",
    "# blockStride = (32, 32) #\n",
    "# cellSize = (16, 16) #\n",
    "blockSize = (16, 16) #\n",
    "blockStride = (8, 8) #\n",
    "cellSize = (8, 8) #\n",
    "nbins = 9 #\n",
    "derivAperture = 1\n",
    "winSigma = -1.\n",
    "histogramNormType = 0\n",
    "L2HysThreshold = 0.2\n",
    "gammaCorrection = 1\n",
    "nlevels = 64\n",
    "signedGradients = True #\n",
    "hog = cv2.HOGDescriptor(\n",
    "  winSize, blockSize, blockStride, cellSize, nbins, derivAperture, winSigma, histogramNormType,\n",
    "  L2HysThreshold, gammaCorrection, nlevels, signedGradients\n",
    ")\n",
    "        \n",
    "for l, filename in enumerate(sorted(os.listdir(folder))):\n",
    "  if l % 10 == 0:\n",
    "    print(l)\n",
    "  image_path = os.path.join(folder, filename)\n",
    "  im = cv2.imread(image_path, 0)\n",
    "  boards = segment_boards.segment_boards(im)\n",
    "  for k, board in enumerate(boards):\n",
    "    ymin, ymax, xmin, xmax, _, _ = board\n",
    "    board_im = im[ymin:ymax, xmin:xmax]\n",
    "    dim = 128\n",
    "    board_im = cv2.resize(board_im, (dim * 8, dim * 8))\n",
    "\n",
    "    for i in range(8):\n",
    "      for j in range(8):\n",
    "        cell = board_im[dim*i: dim*(i+1), dim*j: dim*(j+1)]\n",
    "#         sw(cell)\n",
    "        x = hog.compute(cell)\n",
    "        y = int(linear.predict(x.T))\n",
    "        piecename = piecenames[y]\n",
    "        cv2.imwrite(os.path.join(outfolder, piecename, piecename + ('_%05d_%05d_%05d_%05d' % (l, k, i, j)) + '.png'), cell)\n",
    "  "
   ]
  },
  {
   "cell_type": "code",
   "execution_count": 61,
   "metadata": {},
   "outputs": [
    {
     "data": {
      "text/plain": [
       "0"
      ]
     },
     "execution_count": 61,
     "metadata": {},
     "output_type": "execute_result"
    }
   ],
   "source": [
    "len(piecenames)"
   ]
  },
  {
   "cell_type": "code",
   "execution_count": 21,
   "metadata": {},
   "outputs": [],
   "source": [
    "np.save('..\\data\\dev\\set\\des3.npy', des)"
   ]
  },
  {
   "cell_type": "code",
   "execution_count": 22,
   "metadata": {},
   "outputs": [],
   "source": [
    "np.save('..\\data\\dev\\set\\label3.npy', label)"
   ]
  },
  {
   "cell_type": "code",
   "execution_count": 40,
   "metadata": {},
   "outputs": [],
   "source": [
    "des = np.load('..\\data\\dev\\set\\des3.npy')"
   ]
  },
  {
   "cell_type": "code",
   "execution_count": 39,
   "metadata": {},
   "outputs": [],
   "source": [
    "label = np.load('..\\data\\dev\\set\\label3.npy')"
   ]
  },
  {
   "cell_type": "code",
   "execution_count": 111,
   "metadata": {},
   "outputs": [
    {
     "name": "stdout",
     "output_type": "stream",
     "text": [
      "(84096, 1296)\n"
     ]
    }
   ],
   "source": [
    "X = des\n",
    "y = label.flatten()\n",
    "print(X.shape)"
   ]
  },
  {
   "cell_type": "code",
   "execution_count": 112,
   "metadata": {},
   "outputs": [],
   "source": [
    "X_train, X_test, y_train, y_test = train_test_split(X, y, train_size=0.8, random_state = 0)"
   ]
  },
  {
   "cell_type": "code",
   "execution_count": 113,
   "metadata": {},
   "outputs": [
    {
     "name": "stdout",
     "output_type": "stream",
     "text": [
      "linear\n",
      "Wall time: 31.9 s\n"
     ]
    }
   ],
   "source": [
    "%%time\n",
    "linear = svm.SVC(kernel='linear', C=1, decision_function_shape='ovo').fit(X_train, y_train)\n",
    "print('linear')"
   ]
  },
  {
   "cell_type": "code",
   "execution_count": 8,
   "metadata": {},
   "outputs": [
    {
     "name": "stdout",
     "output_type": "stream",
     "text": [
      "rbf\n",
      "Wall time: 13min 56s\n"
     ]
    }
   ],
   "source": [
    "%%time\n",
    "rbf = svm.SVC(kernel='rbf', gamma=1, C=1, decision_function_shape='ovo').fit(X_train, y_train)\n",
    "print('rbf')"
   ]
  },
  {
   "cell_type": "code",
   "execution_count": 9,
   "metadata": {},
   "outputs": [
    {
     "name": "stdout",
     "output_type": "stream",
     "text": [
      "poly\n",
      "Wall time: 52.8 s\n"
     ]
    }
   ],
   "source": [
    "%%time\n",
    "poly = svm.SVC(kernel='poly', degree=3, C=1, decision_function_shape='ovo').fit(X_train, y_train)\n",
    "print('poly')"
   ]
  },
  {
   "cell_type": "code",
   "execution_count": 10,
   "metadata": {},
   "outputs": [
    {
     "name": "stdout",
     "output_type": "stream",
     "text": [
      "sig\n",
      "Wall time: 3min 32s\n"
     ]
    }
   ],
   "source": [
    "%%time\n",
    "sig = svm.SVC(kernel='sigmoid', C=1, decision_function_shape='ovo').fit(X_train, y_train)\n",
    "print('sig')"
   ]
  },
  {
   "cell_type": "code",
   "execution_count": 116,
   "metadata": {},
   "outputs": [
    {
     "name": "stdout",
     "output_type": "stream",
     "text": [
      "Wall time: 10.5 s\n"
     ]
    }
   ],
   "source": [
    "%%time\n",
    "linear_pred = linear.predict(X_test)"
   ]
  },
  {
   "cell_type": "code",
   "execution_count": 31,
   "metadata": {},
   "outputs": [
    {
     "name": "stdout",
     "output_type": "stream",
     "text": [
      "Wall time: 21.8 s\n"
     ]
    }
   ],
   "source": [
    "%%time\n",
    "poly_pred = poly.predict(X_test)"
   ]
  },
  {
   "cell_type": "code",
   "execution_count": 32,
   "metadata": {},
   "outputs": [
    {
     "name": "stdout",
     "output_type": "stream",
     "text": [
      "Wall time: 52.2 s\n"
     ]
    }
   ],
   "source": [
    "%%time\n",
    "rbf_pred = rbf.predict(X_test)"
   ]
  },
  {
   "cell_type": "code",
   "execution_count": 33,
   "metadata": {},
   "outputs": [
    {
     "name": "stdout",
     "output_type": "stream",
     "text": [
      "Wall time: 53.3 s\n"
     ]
    }
   ],
   "source": [
    "%%time\n",
    "sig_pred = sig.predict(X_test)  "
   ]
  },
  {
   "cell_type": "code",
   "execution_count": 117,
   "metadata": {},
   "outputs": [
    {
     "name": "stdout",
     "output_type": "stream",
     "text": [
      "Accuracy Linear Kernel: 1.0\n",
      "[[ 413    0    0    0    0    0    0    0    0    0    0    0    0    0]\n",
      " [   0  267    0    0    0    0    0    0    0    0    0    0    0    0]\n",
      " [   0    0  328    0    0    0    0    0    0    0    0    0    0    0]\n",
      " [   0    0    0 1651    0    0    0    0    0    0    0    0    0    0]\n",
      " [   0    0    0    0  252    0    0    0    0    0    0    0    0    0]\n",
      " [   0    0    0    0    0  504    0    0    0    0    0    0    0    0]\n",
      " [   0    0    0    0    0    0 4962    0    0    0    0    0    0    0]\n",
      " [   0    0    0    0    0    0    0  442    0    0    0    0    0    0]\n",
      " [   0    0    0    0    0    0    0    0  290    0    0    0    0    0]\n",
      " [   0    0    0    0    0    0    0    0    0  365    0    0    0    0]\n",
      " [   0    0    0    0    0    0    0    0    0    0 1649    0    0    0]\n",
      " [   0    0    0    0    0    0    0    0    0    0    0  266    0    0]\n",
      " [   0    0    0    0    0    0    0    0    0    0    0    0  531    0]\n",
      " [   0    0    0    0    0    0    0    0    0    0    0    0    0 4900]]\n"
     ]
    }
   ],
   "source": [
    "accuracy_lin = linear.score(X_test, y_test)\n",
    "print(\"Accuracy Linear Kernel:\", accuracy_lin)\n",
    "cm_lin = confusion_matrix(y_test, linear_pred)\n",
    "print(cm_lin)"
   ]
  },
  {
   "cell_type": "code",
   "execution_count": 12,
   "metadata": {},
   "outputs": [
    {
     "name": "stdout",
     "output_type": "stream",
     "text": [
      "Accuracy Linear Kernel: 0.9981640146878825\n",
      "Accuracy Polynomial Kernel: 0.9981640146878825\n",
      "Accuracy Radial Basis Kernel: 0.9106487148102815\n",
      "Accuracy Sigmoid Kernel: 0.4222766217870257\n",
      "[[ 76   0   0   0   0   0   0   0   0   0   0   0   0   0]\n",
      " [  0  83   0   0   0   0   0   0   0   0   0   0   0   0]\n",
      " [  0   0  79   0   0   0   0   0   0   0   0   0   0   0]\n",
      " [  0   0   0  94   0   0   0   0   0   0   0   0   0   0]\n",
      " [  0   0   0   0  58   0   0   0   0   0   0   0   0   0]\n",
      " [  0   0   0   0   0  41   0   0   0   0   0   0   0   0]\n",
      " [  0   0   0   0   0   0 299   0   0   0   0   0   0   3]\n",
      " [  0   0   0   0   0   0   0  73   0   0   0   0   0   0]\n",
      " [  0   0   0   0   0   0   0   0  97   0   0   0   0   0]\n",
      " [  0   0   0   0   0   0   0   0   0 107   0   0   0   0]\n",
      " [  0   0   0   0   0   0   0   0   0   0 115   0   0   0]\n",
      " [  0   0   0   0   0   0   0   0   0   0   0  87   0   0]\n",
      " [  0   0   0   0   0   0   0   0   0   0   0   0  98   0]\n",
      " [  0   0   0   0   0   0   0   0   0   0   0   0   0 324]]\n",
      "[[ 76   0   0   0   0   0   0   0   0   0   0   0   0   0]\n",
      " [  0  83   0   0   0   0   0   0   0   0   0   0   0   0]\n",
      " [  0   0  79   0   0   0   0   0   0   0   0   0   0   0]\n",
      " [  0   0   0  94   0   0   0   0   0   0   0   0   0   0]\n",
      " [  0   0   0   0  58   0   0   0   0   0   0   0   0   0]\n",
      " [  0   0   0   0   0  41   0   0   0   0   0   0   0   0]\n",
      " [  0   0   0   0   0   0 299   0   0   0   0   0   0   3]\n",
      " [  0   0   0   0   0   0   0  73   0   0   0   0   0   0]\n",
      " [  0   0   0   0   0   0   0   0  97   0   0   0   0   0]\n",
      " [  0   0   0   0   0   0   0   0   0 107   0   0   0   0]\n",
      " [  0   0   0   0   0   0   0   0   0   0 115   0   0   0]\n",
      " [  0   0   0   0   0   0   0   0   0   0   0  87   0   0]\n",
      " [  0   0   0   0   0   0   0   0   0   0   0   0  98   0]\n",
      " [  0   0   0   0   0   0   0   0   0   0   0   0   0 324]]\n",
      "[[ 60   0   0   0   0   0   0   0   0   0   0   0   0  16]\n",
      " [  0  72   0   0   0   0   0   0   0   0   0   0   0  11]\n",
      " [  0   0  70   0   0   0   0   0   0   0   0   0   0   9]\n",
      " [  0   0   0  82   0   0   0   0   0   0   0   0   0  12]\n",
      " [  0   0   0   0  55   0   0   0   0   0   0   0   0   3]\n",
      " [  0   0   0   0   0  33   0   0   0   0   0   0   0   8]\n",
      " [  0   0   0   0   0   0 280   0   0   0   0   0   0  22]\n",
      " [  0   0   0   0   0   0   0  67   0   0   0   0   0   6]\n",
      " [  0   0   0   0   0   0   0   0  83   0   0   0   0  14]\n",
      " [  0   0   0   0   0   0   0   0   0  93   0   0   0  14]\n",
      " [  0   0   0   0   0   0   0   0   0   0  98   0   0  17]\n",
      " [  0   0   0   0   0   0   0   0   0   0   0  80   0   7]\n",
      " [  0   0   0   0   0   0   0   0   0   0   0   0  91   7]\n",
      " [  0   0   0   0   0   0   0   0   0   0   0   0   0 324]]\n",
      "[[  9   1   0   0   0   0  39  26   0   1   0   0   0   0]\n",
      " [  0   6   0   0   3   0  68   0   6   0   0   0   0   0]\n",
      " [  0   0   0   1   0   0  73   0   0   5   0   0   0   0]\n",
      " [  0   0   0   4   0   0  89   0   0   0   0   0   0   1]\n",
      " [  0   0   0   0  51   0   1   0   0   0   0   6   0   0]\n",
      " [  0   0   2   4   0   0   3   0   0   0   0  11  21   0]\n",
      " [  0   1  78   0   0   0 196   0   7   1   3   0   0  16]\n",
      " [  0   0   0   1   0   0  45  27   0   0   0   0   0   0]\n",
      " [  0   6   0   0   2   0  81   0   7   0   0   0   0   1]\n",
      " [  0   0   0   0   0   0  90   0   0  15   0   0   0   2]\n",
      " [  0   0   0   0   0   0 112   0   0   0   3   0   0   0]\n",
      " [  0   2   0   0  20   0  35   0   0   0   0  30   0   0]\n",
      " [  0   0   2   1   0   0   6   0   0   0   0   7  82   0]\n",
      " [  0   0   0   0   0   0  64   0   0   0   0   0   0 260]]\n"
     ]
    }
   ],
   "source": [
    " # retrieve the accuracy and print it for all 4 kernel functions\n",
    "accuracy_lin = linear.score(X_test, y_test)\n",
    "accuracy_poly = poly.score(X_test, y_test)\n",
    "accuracy_rbf = rbf.score(X_test, y_test)\n",
    "accuracy_sig = sig.score(X_test, y_test)\n",
    "print(\"Accuracy Linear Kernel:\", accuracy_lin)\n",
    "print(\"Accuracy Polynomial Kernel:\", accuracy_poly)\n",
    "print(\"Accuracy Radial Basis Kernel:\", accuracy_rbf)\n",
    "print(\"Accuracy Sigmoid Kernel:\", accuracy_sig)\n",
    "# creating a confusion matrix\n",
    "cm_lin = confusion_matrix(y_test, linear_pred)\n",
    "cm_poly = confusion_matrix(y_test, poly_pred)\n",
    "cm_rbf = confusion_matrix(y_test, rbf_pred)\n",
    "cm_sig = confusion_matrix(y_test, sig_pred)\n",
    "print(cm_lin)\n",
    "print(cm_poly)\n",
    "print(cm_rbf)\n",
    "print(cm_sig)"
   ]
  },
  {
   "cell_type": "code",
   "execution_count": 115,
   "metadata": {},
   "outputs": [],
   "source": [
    "import pickle\n",
    "pickle.dump(linear, open('..\\\\data\\\\dev\\\\set\\\\linear_des6.pkl', 'wb'))"
   ]
  },
  {
   "cell_type": "code",
   "execution_count": 29,
   "metadata": {},
   "outputs": [],
   "source": [
    "import pickle\n",
    "pickle.dump(linear, open('..\\\\data\\\\dev\\\\set\\\\linear.pkl', 'wb'))\n",
    "pickle.dump(poly, open('..\\\\data\\\\dev\\\\set\\\\poly.pkl', 'wb'))\n",
    "pickle.dump(rbf, open('..\\\\data\\\\dev\\\\set\\\\rbf.pkl', 'wb'))\n",
    "pickle.dump(sig, open('..\\\\data\\\\dev\\\\set\\\\sig.pkl', 'wb'))"
   ]
  },
  {
   "cell_type": "code",
   "execution_count": 2,
   "metadata": {},
   "outputs": [],
   "source": [
    "import pickle\n",
    "linear = pickle.load(open('..\\\\data\\\\dev\\\\set\\\\linear.pkl', 'rb'))"
   ]
  },
  {
   "cell_type": "code",
   "execution_count": 110,
   "metadata": {},
   "outputs": [
    {
     "name": "stdout",
     "output_type": "stream",
     "text": [
      "1 278\n",
      "3 275\n",
      "3 1275\n",
      "3 2275\n",
      "5 56\n",
      "6 220\n",
      "6 1220\n",
      "6 2220\n",
      "6 3220\n",
      "6 4220\n",
      "6 5220\n",
      "6 6220\n",
      "6 7220\n",
      "6 8220\n",
      "8 245\n",
      "10 231\n",
      "10 1231\n",
      "10 2231\n",
      "12 55\n",
      "13 213\n",
      "13 1213\n",
      "13 2213\n",
      "13 3213\n",
      "13 4213\n",
      "13 5213\n",
      "13 6213\n",
      "13 7213\n",
      "13 8213\n"
     ]
    }
   ],
   "source": [
    "folder = '..\\\\data\\\\out\\\\23_final'\n",
    "num_images = 28032 * 3\n",
    "# des = np.empty((num_images, 8100))\n",
    "des = np.empty((num_images, 1296))\n",
    "\n",
    "label = np.empty((num_images, 1))\n",
    "x = 0\n",
    "for i, piece in enumerate(sorted(os.listdir(folder))):\n",
    "  folder2 = os.path.join(folder, piece)\n",
    "  if os.path.isfile(folder2):\n",
    "    continue\n",
    "  for j, filename in enumerate(sorted(os.listdir(folder2))):\n",
    "    fullname = os.path.join(folder2, filename)\n",
    "    \n",
    "    im = cv2.imread(fullname, 0)\n",
    "    im = cv2.resize(im, (128, 128))\n",
    "    winSize = (128, 128) #\n",
    "    # winSize = (96, 96) #\n",
    "    blockSize = (64, 64) #\n",
    "    blockStride = (32, 32) #\n",
    "    cellSize = (16, 16) #\n",
    "    \n",
    "#     blockSize = (16, 16) #\n",
    "#     blockStride = (8, 8) #\n",
    "#     cellSize = (8, 8) #\n",
    "    nbins = 9 #\n",
    "    derivAperture = 1\n",
    "    winSigma = -1.\n",
    "    histogramNormType = 0\n",
    "    L2HysThreshold = 0.2\n",
    "    gammaCorrection = 1\n",
    "    nlevels = 64\n",
    "    signedGradients = True #\n",
    "    hog = cv2.HOGDescriptor(\n",
    "      winSize, blockSize, blockStride, cellSize, nbins, derivAperture, winSigma, histogramNormType,\n",
    "      L2HysThreshold, gammaCorrection, nlevels, signedGradients\n",
    "    )\n",
    "    des[x, :] = hog.compute(im).flatten()\n",
    "    label[x] = i\n",
    "    x += 1\n",
    "    \n",
    "    blur = cv2.GaussianBlur(im,(5,5),0)\n",
    "    des[x, :] = hog.compute(blur).flatten()\n",
    "    label[x] = i\n",
    "    x += 1\n",
    "    \n",
    "    median = cv2.medianBlur(im,5)\n",
    "    des[x, :] = hog.compute(median).flatten()\n",
    "    label[x] = i\n",
    "    x += 1\n",
    "    \n",
    "    if x % 1000 == 0:\n",
    "      print(i, j)"
   ]
  }
 ],
 "metadata": {
  "kernelspec": {
   "display_name": "Python (chesspdftofen)",
   "language": "python",
   "name": "chesspdftofen"
  },
  "language_info": {
   "codemirror_mode": {
    "name": "ipython",
    "version": 3
   },
   "file_extension": ".py",
   "mimetype": "text/x-python",
   "name": "python",
   "nbconvert_exporter": "python",
   "pygments_lexer": "ipython3",
   "version": "3.8.3"
  }
 },
 "nbformat": 4,
 "nbformat_minor": 2
}
